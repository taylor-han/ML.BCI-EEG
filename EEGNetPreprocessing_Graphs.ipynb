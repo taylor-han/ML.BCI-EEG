{
 "cells": [
  {
   "cell_type": "markdown",
   "metadata": {},
   "source": [
    "# Preprocessing Raw EEGNet Data"
   ]
  },
  {
   "cell_type": "code",
   "execution_count": 1,
   "metadata": {},
   "outputs": [],
   "source": [
    "import numpy as np\n",
    "import pandas as pd\n",
    "import glob\n",
    "import time\n",
    "from scipy import signal\n",
    "from tqdm.notebook import tqdm"
   ]
  },
  {
   "cell_type": "code",
   "execution_count": 2,
   "metadata": {},
   "outputs": [
    {
     "name": "stdout",
     "output_type": "stream",
     "text": [
      "['data\\\\Train\\\\Data_S02_Sess01.csv', 'data\\\\Train\\\\Data_S02_Sess02.csv', 'data\\\\Train\\\\Data_S02_Sess03.csv', 'data\\\\Train\\\\Data_S02_Sess04.csv', 'data\\\\Train\\\\Data_S02_Sess05.csv']\n"
     ]
    }
   ],
   "source": [
    "train_files = glob.glob('data\\Train\\Data*.csv')\n",
    "test_files = glob.glob('data\\Test\\Data*.csv')\n",
    "print(train_files[:5])"
   ]
  },
  {
   "cell_type": "code",
   "execution_count": 3,
   "metadata": {},
   "outputs": [],
   "source": [
    "# CONSTANTS\n",
    "training_subjects = 16 #num of training subjects\n",
    "num_of_fb = 340 #num of feedbacks / subject\n",
    "freq = 200 #sampling rate\n",
    "epoch_time = 0.5 #proposed epoching time in seconds\n",
    "epoch = int(freq * epoch_time) #epoch in indices\n",
    "pre_fb_time = 0.1\n",
    "pre_fb = int(freq * pre_fb_time) #sampling time before the feedback\n",
    "num_of_cols = 59\n",
    "eeg_cols = 6\n",
    "b_s = int(-0.4*freq) #index where baseline starts relative to feedback (-400ms)\n",
    "b_e = int(-0.3*freq) #index where baseline ends relative to feedback (-300ms)\n",
    "order = 5 #butterworth order\n",
    "low_pass = 1 #low frequency pass for butterworth filter\n",
    "high_pass = 40 #high frequency pass for butterworth filter\n",
    "\n",
    "all_channels = ['Fp1', 'Fp2', 'AF7', 'AF3', 'AF4', 'AF8', 'F7', 'F5', 'F3', 'F1',\n",
    "               'Fz', 'F2', 'F4', 'F6', 'F8', 'FT7', 'FC5', 'FC3', 'FC1', 'FCz',\n",
    "               'FC2', 'FC4', 'FC6', 'FT8', 'T7', 'C5', 'C3', 'C1', 'Cz', 'C2',\n",
    "               'C4', 'C6', 'T8', 'TP7', 'CP5', 'CP3', 'CP1', 'CPz', 'CP2', 'CP4',\n",
    "               'CP6', 'TP8', 'P7', 'P5', 'P3', 'P1', 'Pz', 'P2', 'P4', 'P6', 'P8',\n",
    "               'PO7', 'POz', 'P08', 'O1', 'O2']\n",
    "channels = ['Fz', 'FCz', 'Cz', 'CPz', 'Pz', 'POz']\n",
    "channels_indices = []\n",
    "for channel in channels:\n",
    "    channels_indices.append(all_channels.index(channel))\n",
    "\n",
    "# [10, 19, 28, 37, 46, 52]\n",
    "# print(channels_indices)"
   ]
  },
  {
   "cell_type": "code",
   "execution_count": 4,
   "metadata": {},
   "outputs": [],
   "source": [
    "def butter_filter(order, low_pass, high_pass, fs,sig):\n",
    "    nyq = 0.5 * fs\n",
    "    lp = low_pass / nyq\n",
    "    hp = high_pass / nyq\n",
    "    sos = signal.butter(order, [lp, hp], btype='band', output = 'sos')\n",
    "    return signal.sosfilt(sos, sig)\n",
    "\n",
    "\n",
    "\n",
    "def extract_data(files, e_s = None, baseline = True, bandpass = True):\n",
    "    start = time.time()\n",
    "    \n",
    "    \n",
    "    \n",
    "    temp = np.empty((1,epoch+pre_fb, len(channels)), float)\n",
    "    for i, f in tqdm(enumerate(files)):\n",
    "        df = pd.read_csv(f) #read each file\n",
    "        index_fb = df[df['FeedBackEvent'] == 1].index.values\n",
    "        df_array = np.array(df) \n",
    "        \n",
    "        #uncomment below for butterworth filter\n",
    "        if bandpass == True:\n",
    "            eeg = df_array[:, channels_indices] #only eeg values to apply butterworth filter\n",
    "            for i, channel in enumerate(channels):\n",
    "                raw_eeg = df[channel].values\n",
    "                eeg_filtered = butter_filter(order, low_pass, high_pass, freq, raw_eeg) #butterworth filter applied\n",
    "                eeg[:,i] = eeg_filtered\n",
    "            df = np.array(df)\n",
    "            df[:, channels_indices] = eeg #replacing old eeg values with new ones\n",
    "        else:\n",
    "            df = np.array(df)\n",
    "        \n",
    "        for j, indx in enumerate(index_fb): #epoching 100 indexes (0.5 seconds) after each stimulus\n",
    "            epoch_array = df[indx-pre_fb:indx+epoch, channels_indices]\n",
    "            epoch_array = epoch_array.reshape((1, epoch_array.shape[0], epoch_array.shape[1]))\n",
    "\n",
    "            #uncomment below for baseline correction\n",
    "            if baseline == True:\n",
    "                #baseline correction of 100ms (20 indexes), 400ms to 300ms before fb\n",
    "                baseline_array = df[indx+b_s:indx+b_e, channels_indices] \n",
    "                baseline_array = baseline_array.reshape((1,20,int(baseline_array.shape[1])))\n",
    "                baseline_mean = np.mean(baseline_array, axis = 1)\n",
    "                #noise subtracted from epoched data\n",
    "                epoch_array[:,:,:] = epoch_array[:,:,:] - baseline_mean\n",
    "                \n",
    "            temp = np.vstack((temp,epoch_array))\n",
    "                \n",
    "    now = time.time()\n",
    "    print('Elapsed Time: ' + str(int(now-start)) + ' seconds')\n",
    "    return temp"
   ]
  },
  {
   "cell_type": "code",
   "execution_count": 5,
   "metadata": {},
   "outputs": [],
   "source": [
    "# train = extract_data(train_files)\n",
    "# print(train.shape)\n",
    "# test = extract_data(test_files)\n",
    "# print(test.shape)"
   ]
  },
  {
   "cell_type": "code",
   "execution_count": 6,
   "metadata": {},
   "outputs": [
    {
     "ename": "NameError",
     "evalue": "name 'train' is not defined",
     "output_type": "error",
     "traceback": [
      "\u001b[1;31m---------------------------------------------------------------------------\u001b[0m",
      "\u001b[1;31mNameError\u001b[0m                                 Traceback (most recent call last)",
      "\u001b[1;32m<ipython-input-6-e05f0696f33e>\u001b[0m in \u001b[0;36m<module>\u001b[1;34m\u001b[0m\n\u001b[1;32m----> 1\u001b[1;33m \u001b[0mnp\u001b[0m\u001b[1;33m.\u001b[0m\u001b[0msave\u001b[0m\u001b[1;33m(\u001b[0m\u001b[1;34m'tr1.npy'\u001b[0m\u001b[1;33m,\u001b[0m\u001b[0mtrain\u001b[0m\u001b[1;33m[\u001b[0m\u001b[1;36m1\u001b[0m\u001b[1;33m:\u001b[0m\u001b[1;33m,\u001b[0m\u001b[1;33m:\u001b[0m\u001b[1;33m,\u001b[0m\u001b[1;33m:\u001b[0m\u001b[1;33m]\u001b[0m\u001b[1;33m)\u001b[0m\u001b[1;33m\u001b[0m\u001b[1;33m\u001b[0m\u001b[0m\n\u001b[0m\u001b[0;32m      2\u001b[0m \u001b[0mnp\u001b[0m\u001b[1;33m.\u001b[0m\u001b[0msave\u001b[0m\u001b[1;33m(\u001b[0m\u001b[1;34m'te1.npy'\u001b[0m\u001b[1;33m,\u001b[0m\u001b[0mtest\u001b[0m\u001b[1;33m[\u001b[0m\u001b[1;36m1\u001b[0m\u001b[1;33m:\u001b[0m\u001b[1;33m,\u001b[0m\u001b[1;33m:\u001b[0m\u001b[1;33m,\u001b[0m\u001b[1;33m:\u001b[0m\u001b[1;33m]\u001b[0m\u001b[1;33m)\u001b[0m\u001b[1;33m\u001b[0m\u001b[1;33m\u001b[0m\u001b[0m\n\u001b[0;32m      3\u001b[0m \u001b[0mtrain\u001b[0m \u001b[1;33m=\u001b[0m \u001b[0mnp\u001b[0m\u001b[1;33m.\u001b[0m\u001b[0mload\u001b[0m\u001b[1;33m(\u001b[0m\u001b[1;34m'tr1.npy'\u001b[0m\u001b[1;33m)\u001b[0m\u001b[1;33m\u001b[0m\u001b[1;33m\u001b[0m\u001b[0m\n\u001b[0;32m      4\u001b[0m \u001b[0mtest\u001b[0m \u001b[1;33m=\u001b[0m \u001b[0mnp\u001b[0m\u001b[1;33m.\u001b[0m\u001b[0mload\u001b[0m\u001b[1;33m(\u001b[0m\u001b[1;34m'te1.npy'\u001b[0m\u001b[1;33m)\u001b[0m\u001b[1;33m\u001b[0m\u001b[1;33m\u001b[0m\u001b[0m\n",
      "\u001b[1;31mNameError\u001b[0m: name 'train' is not defined"
     ]
    }
   ],
   "source": [
    "# np.save('tr1.npy',train[1:,:,:])\n",
    "# np.save('te1.npy',test[1:,:,:])\n",
    "train = np.load('tr1.npy')\n",
    "test = np.load('te1.npy')"
   ]
  },
  {
   "cell_type": "code",
   "execution_count": null,
   "metadata": {},
   "outputs": [],
   "source": [
    "train_shape = train.shape[0]\n",
    "test_shape = test.shape[0]\n",
    "\n",
    "train = np.reshape(train, (train_shape, eeg_cols, epoch + pre_fb))\n",
    "test = np.reshape(test, (test_shape, eeg_cols, epoch + pre_fb))\n",
    "\n",
    "EEG_train = train[:,:,:].reshape(5440*(epoch + pre_fb), eeg_cols)\n",
    "EEG_test = test[:,:,:].reshape(3400*(epoch + pre_fb), eeg_cols)\n",
    "\n",
    "train_filtered = EEG_train.reshape(5440, int(eeg_cols), epoch + pre_fb)\n",
    "test_filtered = EEG_test.reshape(3400, int(eeg_cols), epoch + pre_fb)\n",
    "\n",
    "print(train_filtered.shape)\n",
    "print(test_filtered.shape)\n"
   ]
  },
  {
   "cell_type": "code",
   "execution_count": null,
   "metadata": {},
   "outputs": [],
   "source": [
    "train_filtered[0].shape"
   ]
  },
  {
   "cell_type": "code",
   "execution_count": null,
   "metadata": {},
   "outputs": [],
   "source": [
    "np.save('data\\X_train_bwbs.npy',train_filtered)\n",
    "np.save('data\\X_test_bwbs.npy',test_filtered)"
   ]
  },
  {
   "cell_type": "markdown",
   "metadata": {},
   "source": [
    "# Generate Graphs"
   ]
  },
  {
   "cell_type": "code",
   "execution_count": null,
   "metadata": {},
   "outputs": [],
   "source": [
    "import matplotlib.pyplot as plt"
   ]
  },
  {
   "cell_type": "code",
   "execution_count": null,
   "metadata": {},
   "outputs": [],
   "source": [
    "train_files = glob.glob('data/train/Data*.csv')\n",
    "test_files = glob.glob('data/test/Data*.csv')\n",
    "print(train_files[:5])"
   ]
  },
  {
   "cell_type": "code",
   "execution_count": null,
   "metadata": {},
   "outputs": [],
   "source": [
    "#Not baseline corrected no filter\n",
    "x = np.arange(-0.1,0.5,0.005) # length = 120\n",
    "train = extract_data(train_files[:1], -0.4, False, False)\n",
    "train = train[1:,:,:]\n",
    "\n",
    "for i, c in enumerate(channels):\n",
    "    first_electrode = train[:,:120,i]\n",
    "\n",
    "    for j in np.arange(60):\n",
    "        y = first_electrode[j,:]\n",
    "        plt.plot(x, y)\n",
    "\n",
    "    plt.xlabel('Time (s)')\n",
    "    plt.ylabel('Frequency')\n",
    "    plt.title('{} Frequencies of Epoched Data (Bandpassed and Baseline corrected)'.format(c))\n",
    "    plt.axvline(x=0, marker = '|', linewidth = 2, label = 'Feedback at x = 0', color = 'black')\n",
    "    plt.legend()\n",
    "    plt.show()\n"
   ]
  },
  {
   "cell_type": "code",
   "execution_count": null,
   "metadata": {},
   "outputs": [],
   "source": [
    "#Bandpassed, baseline not corrected\n",
    "x = np.arange(-0.1,0.5,0.005)\n",
    "train = extract_data(train_files[:1], -0.4, baseline = False, bandpass = True)\n",
    "train = train[1:,:,:]\n",
    "\n",
    "for i, c in enumerate(channels):\n",
    "    first_electrode = train[:,:120,i]\n",
    "\n",
    "    for j in np.arange(60):\n",
    "        y = first_electrode[j,:]\n",
    "        plt.plot(x, y)\n",
    "\n",
    "    plt.xlabel('Time (s)')\n",
    "    plt.ylabel('Frequency')\n",
    "    plt.title('{} Frequencies of Epoched Data (Bandpassed and Baseline corrected)'.format(c))\n",
    "    plt.axvline(x=0, marker = '|', linewidth = 2, label = 'Feedback at x = 0.', color = 'black')\n",
    "    plt.legend()\n",
    "    plt.show()\n"
   ]
  },
  {
   "cell_type": "code",
   "execution_count": null,
   "metadata": {},
   "outputs": [],
   "source": [
    "#Bandpassed, and baseline corrected\n",
    "x = np.arange(-0.1,0.5,0.005)\n",
    "train = extract_data(train_files[:1], -0.4, baseline = True, bandpass = True)\n",
    "train = train[1:,:,:]\n",
    "\n",
    "for i, c in enumerate(channels):\n",
    "    first_electrode = train[:,:120,i]\n",
    "\n",
    "    for j in np.arange(60):\n",
    "        y = first_electrode[j,:]\n",
    "        plt.plot(x, y)\n",
    "\n",
    "    plt.xlabel('Time (s)')\n",
    "    plt.ylabel('Frequency')\n",
    "    plt.title('{} Frequencies of Epoched Data (Bandpassed and Baseline corrected)'.format(c))\n",
    "    plt.axvline(x=0, marker = '|', linewidth = 2, label = 'Feedback at x = 0', color = 'black')\n",
    "    plt.legend()\n",
    "    plt.show()\n"
   ]
  },
  {
   "cell_type": "code",
   "execution_count": null,
   "metadata": {},
   "outputs": [],
   "source": []
  }
 ],
 "metadata": {
  "kernelspec": {
   "display_name": "Python 3",
   "language": "python",
   "name": "python3"
  },
  "language_info": {
   "codemirror_mode": {
    "name": "ipython",
    "version": 3
   },
   "file_extension": ".py",
   "mimetype": "text/x-python",
   "name": "python",
   "nbconvert_exporter": "python",
   "pygments_lexer": "ipython3",
   "version": "3.7.6"
  }
 },
 "nbformat": 4,
 "nbformat_minor": 4
}
