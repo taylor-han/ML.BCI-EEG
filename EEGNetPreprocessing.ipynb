{
 "cells": [
  {
   "cell_type": "code",
   "execution_count": 10,
   "metadata": {},
   "outputs": [],
   "source": [
    "import numpy as np\n",
    "import pandas as pd\n",
    "import glob\n",
    "import time\n",
    "from scipy import signal\n",
    "from tqdm import tqdm"
   ]
  },
  {
   "cell_type": "code",
   "execution_count": 11,
   "metadata": {},
   "outputs": [
    {
     "name": "stdout",
     "output_type": "stream",
     "text": [
      "['data\\\\Train\\\\Data_S02_Sess01.csv', 'data\\\\Train\\\\Data_S02_Sess02.csv', 'data\\\\Train\\\\Data_S02_Sess03.csv', 'data\\\\Train\\\\Data_S02_Sess04.csv', 'data\\\\Train\\\\Data_S02_Sess05.csv']\n"
     ]
    }
   ],
   "source": [
    "train_files = glob.glob('data\\Train\\Data*.csv')\n",
    "test_files = glob.glob('data\\Test\\Data*.csv')\n",
    "print(train_files[:5])"
   ]
  },
  {
   "cell_type": "code",
   "execution_count": 16,
   "metadata": {},
   "outputs": [],
   "source": [
    "def butter_filter(order, low_pass, high_pass, fs,sig):\n",
    "    nyq = 0.5 * fs\n",
    "    lp = low_pass / nyq\n",
    "    hp = high_pass / nyq\n",
    "    sos = signal.butter(order, [lp, hp], btype='band', output = 'sos')\n",
    "    return signal.sosfilt(sos, sig)\n",
    "\n",
    "\n",
    "\n",
    "def extract_d(files, e_s = None, baseline = True, bandpass = True):\n",
    "    start = time.time()\n",
    "    \n",
    "    training_subjects = 16 #num of training subjects\n",
    "    num_of_fb = 340 #num of feedbacks / subject\n",
    "    freq = 200 #sampling rate\n",
    "    epoch_time = 0.5 #proposed epoching time in seconds\n",
    "    epoch = int(freq * epoch_time) #epoch in indices \n",
    "    #epoch_s = int(freq * e_s)\n",
    "    num_of_cols = 59\n",
    "    eeg_cols = 56\n",
    "    b_s = int(-0.4*freq) #index where baseline starts relative to feedback (-400ms)\n",
    "    b_e = int(-0.3*freq) #index where baseline ends relative to feedback (-300ms)\n",
    "    order = 5 #butterworth order\n",
    "    low_pass = 1 #low frequency pass for butterworth filter\n",
    "    high_pass = 40 #high frequency pass for butterworth filter\n",
    "    \n",
    "    channels = ['Fp1', 'Fp2', 'AF7', 'AF3', 'AF4', 'AF8', 'F7', 'F5', 'F3', 'F1',\n",
    "       'Fz', 'F2', 'F4', 'F6', 'F8', 'FT7', 'FC5', 'FC3', 'FC1', 'FCz',\n",
    "       'FC2', 'FC4', 'FC6', 'FT8', 'T7', 'C5', 'C3', 'C1', 'Cz', 'C2',\n",
    "       'C4', 'C6', 'T8', 'TP7', 'CP5', 'CP3', 'CP1', 'CPz', 'CP2', 'CP4',\n",
    "       'CP6', 'TP8', 'P7', 'P5', 'P3', 'P1', 'Pz', 'P2', 'P4', 'P6', 'P8',\n",
    "       'PO7', 'POz', 'P08', 'O1', 'O2']\n",
    "    \n",
    "    temp = np.empty((1,epoch,num_of_cols), float)\n",
    "    for i, f in enumerate(files):\n",
    "        print(i,f, temp.shape)\n",
    "        df = pd.read_csv(f) #read each file\n",
    "        index_fb = df[df['FeedBackEvent'] == 1].index.values\n",
    "        df_array = np.array(df) \n",
    "        \n",
    "        #uncomment below for butterworth filter\n",
    "        if bandpass == True:\n",
    "            eeg = df_array[:,1:57] #only eeg values to apply butterworth filter\n",
    "            for i, channel in enumerate(channels):\n",
    "                raw_eeg = df[channel].values\n",
    "                eeg_filtered = butter_filter(order, low_pass, high_pass, freq, raw_eeg) #butterworth filter applied\n",
    "                eeg[:,i] = eeg_filtered\n",
    "            df = np.array(df)\n",
    "            df[:,1:57] = eeg #replacing old eeg values with new ones\n",
    "        else:\n",
    "            df = np.array(df)\n",
    "        \n",
    "        for j, indx in enumerate(index_fb): #epoching 100 indexes (0.5 seconds) after each stimulus\n",
    "            if e_s != None:\n",
    "                epoch_array = df[indx:(indx+int(epoch)),:]\n",
    "                epoch_array = epoch_array.reshape((1,int(epoch),int(epoch_array.shape[1])))\n",
    "            else:\n",
    "                epoch_array = df[indx:(indx+int(epoch)),:]\n",
    "                epoch_array = epoch_array.reshape((1,int(epoch),int(epoch_array.shape[1])))\n",
    "\n",
    "            #uncomment below for baseline correction\n",
    "            if baseline == True:\n",
    "                #baseline correction of 100ms (20 indexes), 400ms to 300ms before fb\n",
    "                baseline_array = df[indx+b_s:indx+b_e, 1:57] \n",
    "                baseline_array = baseline_array.reshape((1,20,int(baseline_array.shape[1])))\n",
    "                baseline_mean = np.mean(baseline_array, axis = 1)\n",
    "                epoch_array[:,:,1:57] = epoch_array[:,:,1:57] - baseline_mean #noise subtracted from epoched data\n",
    "            \n",
    "            if i == 0:\n",
    "                temp = np.vstack((temp,epoch_array)) #stacking the first epoch\n",
    "            else:\n",
    "                temp = np.vstack((temp,epoch_array))\n",
    "                \n",
    "    now = time.time()\n",
    "    print('Elapsed Time: ' + str(int(now-start)) + ' seconds')\n",
    "    return temp"
   ]
  },
  {
   "cell_type": "code",
   "execution_count": null,
   "metadata": {},
   "outputs": [
    {
     "name": "stdout",
     "output_type": "stream",
     "text": [
      "0 data\\Train\\Data_S02_Sess01.csv (1, 100, 59)\n",
      "1 data\\Train\\Data_S02_Sess02.csv (61, 100, 59)\n",
      "2 data\\Train\\Data_S02_Sess03.csv (121, 100, 59)\n",
      "3 data\\Train\\Data_S02_Sess04.csv (181, 100, 59)\n",
      "4 data\\Train\\Data_S02_Sess05.csv (241, 100, 59)\n",
      "5 data\\Train\\Data_S06_Sess01.csv (341, 100, 59)\n",
      "6 data\\Train\\Data_S06_Sess02.csv (401, 100, 59)\n",
      "7 data\\Train\\Data_S06_Sess03.csv (461, 100, 59)\n",
      "8 data\\Train\\Data_S06_Sess04.csv (521, 100, 59)\n"
     ]
    }
   ],
   "source": [
    "train = extract_d(train_files)\n",
    "test = extract_d(test_files)"
   ]
  },
  {
   "cell_type": "code",
   "execution_count": null,
   "metadata": {},
   "outputs": [],
   "source": []
  }
 ],
 "metadata": {
  "kernelspec": {
   "display_name": "Python 3",
   "language": "python",
   "name": "python3"
  },
  "language_info": {
   "codemirror_mode": {
    "name": "ipython",
    "version": 3
   },
   "file_extension": ".py",
   "mimetype": "text/x-python",
   "name": "python",
   "nbconvert_exporter": "python",
   "pygments_lexer": "ipython3",
   "version": "3.7.6"
  }
 },
 "nbformat": 4,
 "nbformat_minor": 4
}
