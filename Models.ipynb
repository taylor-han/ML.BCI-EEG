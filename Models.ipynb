{
 "cells": [
  {
   "cell_type": "code",
   "execution_count": 1,
   "metadata": {},
   "outputs": [],
   "source": [
    "import numpy as np\n",
    "import pandas as pd\n",
    "import glob\n",
    "import time\n",
    "from scipy import signal\n",
    "from tqdm.notebook import tqdm\n",
    "\n",
    "from sklearn.svm import SVC\n",
    "from sklearn.pipeline import make_pipeline\n",
    "from sklearn.model_selection import GridSearchCV\n",
    "from sklearn.model_selection import KFold\n",
    "from sklearn.model_selection import train_test_split\n",
    "from sklearn.metrics import roc_auc_score\n",
    "from sklearn.preprocessing import StandardScaler\n",
    "from sklearn.metrics import roc_curve\n",
    "\n",
    "from sklearn.discriminant_analysis import LinearDiscriminantAnalysis\n",
    "from sklearn.model_selection import cross_val_score\n",
    "from sklearn.model_selection import StratifiedKFold\n",
    "from sklearn.metrics import auc\n",
    "\n",
    "import matplotlib.pyplot as plt                         \n",
    "import matplotlib.patches as patches\n",
    "\n",
    "import random"
   ]
  },
  {
   "cell_type": "code",
   "execution_count": 2,
   "metadata": {},
   "outputs": [],
   "source": [
    "channels = ['Fz', 'FCz', 'Cz', 'CPz', 'Pz', 'POz']\n",
    "\n",
    "train_filtered = np.load('data/X_train_bwbs.npy')\n",
    "\n",
    "f = 'data/TrainLabels.csv'\n",
    "train_labels = pd.read_csv(f)\n",
    "train_labels = train_labels.Prediction.values"
   ]
  },
  {
   "cell_type": "code",
   "execution_count": 3,
   "metadata": {},
   "outputs": [],
   "source": [
    "# Silence warning messages \n",
    "import warnings\n",
    "warnings.filterwarnings('ignore')\n",
    "# warnings.filterwarnings(action='once')"
   ]
  },
  {
   "cell_type": "code",
   "execution_count": 4,
   "metadata": {},
   "outputs": [
    {
     "name": "stdout",
     "output_type": "stream",
     "text": [
      "Time taken: 121.1022138595581\n",
      "Best parameter C* for Fz = 10\n",
      "Best parameter C* for FCz = 10\n",
      "Best parameter C* for Cz = 10\n",
      "Best parameter C* for CPz = 0.001\n",
      "Best parameter C* for Pz = 0.001\n",
      "Best parameter C* for POz = 0.001\n"
     ]
    }
   ],
   "source": [
    "#Using SVM to find the optimal C in the dataset with baseline\n",
    "# LDA SVM\n",
    "C_list = [0.001,0.01,0.1,10]\n",
    "\n",
    "opt_C = None\n",
    "scaler = StandardScaler()\n",
    "best_Cs = []\n",
    "\n",
    "start = time.time()\n",
    "\n",
    "for i in range(len(train_filtered[0])):\n",
    "    x_train, x_test, y_train, y_test = train_test_split(train_filtered[:,i,:], train_labels, test_size=0.2)\n",
    "    auc_best=0\n",
    "    for c in C_list:\n",
    "#         estimator = SVC(kernel = 'linear', max_iter=10000, probability=True, C = c)\n",
    "#         parameter = {'kernel':('linear',), 'C':[c]}\n",
    "#         grid_search = GridSearchCV(estimator, parameter, cv=5)\n",
    "#         grid_search.fit(scaler.fit_transform(x_train), y_train)\n",
    "#         pred_y = grid_search.predict(scaler.transform(x_test))\n",
    "#         auc_score = roc_auc_score(y_test, pred_y)\n",
    "        clf = make_pipeline(StandardScaler(), SVC(kernel = 'linear', max_iter=10000, probability=True, C = c))\n",
    "        clf.fit(x_train, y_train)\n",
    "        pred_y = clf.predict(x_test)\n",
    "        auc_score = roc_auc_score(y_test, pred_y)\n",
    "#         print('AUC:'+\"{0:.3f}\".format(auc_score))\n",
    "        if auc_score > auc_best:\n",
    "            auc_best = auc_score\n",
    "            opt_C = c\n",
    "    best_Cs.append(opt_C)\n",
    "\n",
    "print('Time taken: {}'.format(time.time() - start))\n",
    "for i in range(len(channels)):\n",
    "    print('Best parameter C* for {} = {}'.format(channels[i], best_Cs[i]))"
   ]
  },
  {
   "cell_type": "code",
   "execution_count": 5,
   "metadata": {},
   "outputs": [
    {
     "name": "stdout",
     "output_type": "stream",
     "text": [
      "Fz electrode score: 0.5201708710378646\n",
      "FCz electrode score: 0.523473249136966\n",
      "Cz electrode score: 0.5053778182135424\n",
      "CPz electrode score: 0.5\n",
      "Pz electrode score: 0.5\n",
      "POz electrode score: 0.5\n"
     ]
    }
   ],
   "source": [
    "c_values = best_Cs # from prev cell\n",
    "start = time.time()\n",
    "\n",
    "for i in range(len(c_values)):\n",
    "    x_train, x_test, y_train, y_test = train_test_split(train_filtered[:,i,:], train_labels, test_size=0.2)\n",
    "    estimator = SVC(kernel = 'linear', max_iter=10000, probability=True)\n",
    "    parameter = {'kernel':('linear',), 'C':[c_values[i]]}\n",
    "    grid_search = GridSearchCV(estimator, parameter, cv=5)\n",
    "    grid_search.fit(scaler.fit_transform(x_train), y_train)\n",
    "    pred_y = grid_search.predict(scaler.transform(x_test))\n",
    "    auc_score = roc_auc_score(y_test, pred_y)\n",
    "    print('{} electrode score: {}'.format(channels[i], auc_score))"
   ]
  },
  {
   "cell_type": "code",
   "execution_count": 6,
   "metadata": {},
   "outputs": [
    {
     "name": "stdout",
     "output_type": "stream",
     "text": [
      "Fz electrode score: 0.5138542757603608\n",
      "FCz electrode score: 0.4791979244811203\n",
      "Cz electrode score: 0.5021546909714184\n",
      "CPz electrode score: 0.5026616730853031\n",
      "Pz electrode score: 0.5190721228457078\n",
      "POz electrode score: 0.4807685688717561\n"
     ]
    }
   ],
   "source": [
    "# Fz electrode score: 0.497228405312354\n",
    "# FCz electrode score: 0.5\n",
    "# Cz electrode score: 0.5143310307070512\n",
    "# CPz electrode score: 0.5053572310275021\n",
    "# Pz electrode score: 0.5\n",
    "# POz electrode score: 0.5107897013488649\n",
    "\n",
    "\n",
    "for i in range(len(c_values)):\n",
    "    x_train, x_test, y_train, y_test = train_test_split(train_filtered[:,i,:], train_labels, test_size=0.2)\n",
    "    pred_y = [random.randint(0, 1) for i in range(len(y_test))]\n",
    "    auc_score = roc_auc_score(y_test, pred_y)\n",
    "    print('{} electrode score: {}'.format(channels[i], auc_score))"
   ]
  },
  {
   "cell_type": "code",
   "execution_count": 15,
   "metadata": {},
   "outputs": [
    {
     "ename": "NotImplementedError",
     "evalue": "shrinkage not supported",
     "output_type": "error",
     "traceback": [
      "\u001b[1;31m---------------------------------------------------------------------------\u001b[0m",
      "\u001b[1;31mNotImplementedError\u001b[0m                       Traceback (most recent call last)",
      "\u001b[1;32m<ipython-input-15-111754ba4bcb>\u001b[0m in \u001b[0;36m<module>\u001b[1;34m\u001b[0m\n\u001b[0;32m      3\u001b[0m \u001b[1;32mfor\u001b[0m \u001b[0mi\u001b[0m \u001b[1;32min\u001b[0m \u001b[0mrange\u001b[0m\u001b[1;33m(\u001b[0m\u001b[0mlen\u001b[0m\u001b[1;33m(\u001b[0m\u001b[0mc_values\u001b[0m\u001b[1;33m)\u001b[0m\u001b[1;33m)\u001b[0m\u001b[1;33m:\u001b[0m\u001b[1;33m\u001b[0m\u001b[1;33m\u001b[0m\u001b[0m\n\u001b[0;32m      4\u001b[0m     \u001b[0mx_train\u001b[0m\u001b[1;33m,\u001b[0m \u001b[0mx_test\u001b[0m\u001b[1;33m,\u001b[0m \u001b[0my_train\u001b[0m\u001b[1;33m,\u001b[0m \u001b[0my_test\u001b[0m \u001b[1;33m=\u001b[0m \u001b[0mtrain_test_split\u001b[0m\u001b[1;33m(\u001b[0m\u001b[0mtrain_filtered\u001b[0m\u001b[1;33m[\u001b[0m\u001b[1;33m:\u001b[0m\u001b[1;33m,\u001b[0m\u001b[0mi\u001b[0m\u001b[1;33m,\u001b[0m\u001b[1;33m:\u001b[0m\u001b[1;33m]\u001b[0m\u001b[1;33m,\u001b[0m \u001b[0mtrain_labels\u001b[0m\u001b[1;33m,\u001b[0m \u001b[0mtest_size\u001b[0m\u001b[1;33m=\u001b[0m\u001b[1;36m0.2\u001b[0m\u001b[1;33m)\u001b[0m\u001b[1;33m\u001b[0m\u001b[1;33m\u001b[0m\u001b[0m\n\u001b[1;32m----> 5\u001b[1;33m     \u001b[0mclf_lsqrs\u001b[0m \u001b[1;33m=\u001b[0m \u001b[0mLinearDiscriminantAnalysis\u001b[0m\u001b[1;33m(\u001b[0m\u001b[0msolver\u001b[0m \u001b[1;33m=\u001b[0m \u001b[1;34m'svd'\u001b[0m\u001b[1;33m,\u001b[0m  \u001b[0mshrinkage\u001b[0m \u001b[1;33m=\u001b[0m \u001b[1;34m'auto'\u001b[0m\u001b[1;33m)\u001b[0m\u001b[1;33m.\u001b[0m\u001b[0mfit\u001b[0m\u001b[1;33m(\u001b[0m\u001b[0mx_train\u001b[0m\u001b[1;33m,\u001b[0m \u001b[0my_train\u001b[0m\u001b[1;33m)\u001b[0m\u001b[1;33m\u001b[0m\u001b[1;33m\u001b[0m\u001b[0m\n\u001b[0m\u001b[0;32m      6\u001b[0m     \u001b[0mclfs\u001b[0m\u001b[1;33m.\u001b[0m\u001b[0mappend\u001b[0m\u001b[1;33m(\u001b[0m\u001b[0mclf_lsqrs\u001b[0m\u001b[1;33m)\u001b[0m\u001b[1;33m\u001b[0m\u001b[1;33m\u001b[0m\u001b[0m\n\u001b[0;32m      7\u001b[0m     \u001b[1;31m# Let's do 5-fold cross validation\u001b[0m\u001b[1;33m\u001b[0m\u001b[1;33m\u001b[0m\u001b[1;33m\u001b[0m\u001b[0m\n",
      "\u001b[1;32mC:\\anaconda3\\lib\\site-packages\\sklearn\\discriminant_analysis.py\u001b[0m in \u001b[0;36mfit\u001b[1;34m(self, X, y)\u001b[0m\n\u001b[0;32m    461\u001b[0m         \u001b[1;32mif\u001b[0m \u001b[0mself\u001b[0m\u001b[1;33m.\u001b[0m\u001b[0msolver\u001b[0m \u001b[1;33m==\u001b[0m \u001b[1;34m'svd'\u001b[0m\u001b[1;33m:\u001b[0m\u001b[1;33m\u001b[0m\u001b[1;33m\u001b[0m\u001b[0m\n\u001b[0;32m    462\u001b[0m             \u001b[1;32mif\u001b[0m \u001b[0mself\u001b[0m\u001b[1;33m.\u001b[0m\u001b[0mshrinkage\u001b[0m \u001b[1;32mis\u001b[0m \u001b[1;32mnot\u001b[0m \u001b[1;32mNone\u001b[0m\u001b[1;33m:\u001b[0m\u001b[1;33m\u001b[0m\u001b[1;33m\u001b[0m\u001b[0m\n\u001b[1;32m--> 463\u001b[1;33m                 \u001b[1;32mraise\u001b[0m \u001b[0mNotImplementedError\u001b[0m\u001b[1;33m(\u001b[0m\u001b[1;34m'shrinkage not supported'\u001b[0m\u001b[1;33m)\u001b[0m\u001b[1;33m\u001b[0m\u001b[1;33m\u001b[0m\u001b[0m\n\u001b[0m\u001b[0;32m    464\u001b[0m             \u001b[0mself\u001b[0m\u001b[1;33m.\u001b[0m\u001b[0m_solve_svd\u001b[0m\u001b[1;33m(\u001b[0m\u001b[0mX\u001b[0m\u001b[1;33m,\u001b[0m \u001b[0my\u001b[0m\u001b[1;33m)\u001b[0m\u001b[1;33m\u001b[0m\u001b[1;33m\u001b[0m\u001b[0m\n\u001b[0;32m    465\u001b[0m         \u001b[1;32melif\u001b[0m \u001b[0mself\u001b[0m\u001b[1;33m.\u001b[0m\u001b[0msolver\u001b[0m \u001b[1;33m==\u001b[0m \u001b[1;34m'lsqr'\u001b[0m\u001b[1;33m:\u001b[0m\u001b[1;33m\u001b[0m\u001b[1;33m\u001b[0m\u001b[0m\n",
      "\u001b[1;31mNotImplementedError\u001b[0m: shrinkage not supported"
     ]
    }
   ],
   "source": [
    "# Train our classifier\n",
    "clfs = []\n",
    "for i in range(len(c_values)):\n",
    "    x_train, x_test, y_train, y_test = train_test_split(train_filtered[:,i,:], train_labels, test_size=0.2)\n",
    "    clf_lsqrs = LinearDiscriminantAnalysis(solver = 'lsqr',  shrinkage = 'auto').fit(x_train, y_train)\n",
    "    clfs.append(clf_lsqrs)\n",
    "    # Let's do 5-fold cross validation\n",
    "    score_lsqrs = cross_val_score(clf_lsqrs.fit(x_train, y_train), x_train, y_train, cv = 5)\n",
    "\n",
    "    # We will print out the mean score\n",
    "    print(\"solver = lsqr  accuracy: %f\" % np.mean(score_lsqrs))"
   ]
  },
  {
   "cell_type": "code",
   "execution_count": null,
   "metadata": {},
   "outputs": [],
   "source": [
    "# Test using classifier\n"
   ]
  },
  {
   "cell_type": "code",
   "execution_count": 8,
   "metadata": {},
   "outputs": [],
   "source": [
    "nfolds = 5;\n",
    "cv = StratifiedKFold(n_splits = nfolds)\n",
    "x_train, x_test, y_train, y_test = train_test_split(train_filtered[:,i,:], train_labels, test_size=0.2)\n",
    "X = x_train\n",
    "y = y_train\n",
    "tprs_lsqrs = []\n",
    "aucs_lsqrs = []\n",
    "mean_fpr_lsqrs = np.linspace(0, 1, 100)\n",
    "\n",
    "i = 0\n",
    "for train, test in cv.split(X, y):\n",
    "    probas_lsqrs = clf_lsqrs.fit(X[train], y[train]).predict_proba(X[test])\n",
    "    fpr_lsqrs, tpr_lsqrs, th_lsqrs = roc_curve(y[test], probas_lsqrs[:, 1])\n",
    "    tprs_lsqrs.append(np.interp(mean_fpr_lsqrs, fpr_lsqrs, tpr_lsqrs))\n",
    "    tprs_lsqrs[-1][0] = 0.0\n",
    "    roc_auc_lsqrs = auc(fpr_lsqrs, tpr_lsqrs)\n",
    "    aucs_lsqrs.append(roc_auc_lsqrs)\n",
    "    i += 1"
   ]
  },
  {
   "cell_type": "code",
   "execution_count": 9,
   "metadata": {},
   "outputs": [
    {
     "data": {
      "image/png": "[encoded data removed]",
      "text/plain": [
       "<Figure size 432x288 with 1 Axes>"
      ]
     },
     "metadata": {
      "needs_background": "light"
     },
     "output_type": "display_data"
    }
   ],
   "source": [
    "# Modified from:\n",
    "# https://scikit-learn.org/stable/auto_examples/model_selection/plot_roc_crossval.html\n",
    "plt.plot([0, 1], [0, 1], linestyle='--', lw=2, color='r', label='Chance', alpha=.8)\n",
    "\n",
    "mean_tpr_lsqrs = np.mean(tprs_lsqrs, axis=0)\n",
    "mean_tpr_lsqrs[-1] = 1.0\n",
    "mean_auc_lsqrs = auc(mean_fpr_lsqrs, mean_tpr_lsqrs)\n",
    "std_auc_lsqrs = np.std(aucs_lsqrs);\n",
    "\n",
    "plt.plot(mean_fpr_lsqrs, mean_tpr_lsqrs, color='b',\n",
    "         label=r'Mean ROC (AUC = %0.2f $\\pm$ %0.2f)' % (mean_auc_lsqrs, std_auc_lsqrs),\n",
    "         lw=2, alpha=.8)\n",
    "\n",
    "std_tpr_lsqrs = np.std(tprs_lsqrs, axis=0)\n",
    "tprs_upper_lsqrs = np.minimum(mean_tpr_lsqrs + std_tpr_lsqrs, 1)\n",
    "tprs_lower_lsqrs = np.maximum(mean_tpr_lsqrs - std_tpr_lsqrs, 0)\n",
    "plt.fill_between(mean_fpr_lsqrs, tprs_lower_lsqrs, tprs_upper_lsqrs, color='b', alpha=.2, label=r'$\\pm$ 1 std. dev.')\n",
    "\n",
    "plt.xlim([-0.05, 1.05])\n",
    "plt.ylim([-0.05, 1.05])\n",
    "plt.xlabel('False Positive Rate')\n",
    "plt.ylabel('True Positive Rate')\n",
    "plt.title('ROC of Least-Squares LDA (' + str(nfolds) + '-fold CV)')\n",
    "plt.legend(loc=\"lower right\")\n",
    "plt.show()"
   ]
  },
  {
   "cell_type": "code",
   "execution_count": 10,
   "metadata": {},
   "outputs": [
    {
     "name": "stdout",
     "output_type": "stream",
     "text": [
      "0.49867875914665566\n"
     ]
    }
   ],
   "source": [
    "# Set clf to clf_lsqrs for convenience\n",
    "clf = clf_lsqrs.fit(x_train, y)\n",
    "\n",
    "# Make predictions on our dataset \n",
    "conf = clf.decision_function(x_test) # predicted confidence score\n",
    "pred = clf.predict(x_test)           # predicted label (we won't actually use this)\n",
    "\n",
    "auc_score = roc_auc_score(y_test, pred)\n",
    "print(auc_score)"
   ]
  },
  {
   "cell_type": "code",
   "execution_count": 11,
   "metadata": {},
   "outputs": [],
   "source": [
    "# CONSTANTS\n",
    "training_subjects = 16 #num of training subjects\n",
    "num_of_fb = 340 #num of feedbacks / subject\n",
    "freq = 200 #sampling rate\n",
    "epoch_time = 0.5 #proposed epoching time in seconds\n",
    "epoch = int(freq * epoch_time) #epoch in indices\n",
    "pre_fb_time = 0.1\n",
    "pre_fb = int(freq * pre_fb_time) #sampling time before the feedback\n",
    "num_of_cols = 59\n",
    "eeg_cols = 6\n",
    "b_s = int(-0.4*freq) #index where baseline starts relative to feedback (-400ms)\n",
    "b_e = int(-0.3*freq) #index where baseline ends relative to feedback (-300ms)\n",
    "order = 2 #butterworth order\n",
    "low_pass = 0.1 #low frequency pass for butterworth filter\n",
    "high_pass = 20. #high frequency pass for butterworth filter\n",
    "\n",
    "all_channels = ['Fp1', 'Fp2', 'AF7', 'AF3', 'AF4', 'AF8', 'F7', 'F5', 'F3', 'F1',\n",
    "               'Fz', 'F2', 'F4', 'F6', 'F8', 'FT7', 'FC5', 'FC3', 'FC1', 'FCz',\n",
    "               'FC2', 'FC4', 'FC6', 'FT8', 'T7', 'C5', 'C3', 'C1', 'Cz', 'C2',\n",
    "               'C4', 'C6', 'T8', 'TP7', 'CP5', 'CP3', 'CP1', 'CPz', 'CP2', 'CP4',\n",
    "               'CP6', 'TP8', 'P7', 'P5', 'P3', 'P1', 'Pz', 'P2', 'P4', 'P6', 'P8',\n",
    "               'PO7', 'POz', 'P08', 'O1', 'O2']\n",
    "channels = ['Fz', 'FCz', 'Cz', 'CPz', 'Pz', 'POz']\n",
    "# [10, 19, 28, 37, 46, 52]\n",
    "channels_indices = []\n",
    "for channel in channels:\n",
    "    channels_indices.append(all_channels.index(channel))"
   ]
  },
  {
   "cell_type": "code",
   "execution_count": 13,
   "metadata": {},
   "outputs": [],
   "source": [
    "def butter_filter(order, low_pass, high_pass, fs,sig):\n",
    "    nyq = 0.5 * fs\n",
    "#     lp = low_pass / nyq\n",
    "#     hp = high_pass / nyq\n",
    "    lp = low_pass\n",
    "    hp = high_pass\n",
    "    coeffs = [lp, hp]\n",
    "    btype = 'bandpass'\n",
    "    sos = signal.butter(order, [lp, hp], btype=btype, output = 'sos', fs = 200)\n",
    "    return signal.sosfiltfilt(sos, sig, axis=0)\n",
    "#     b = signal.firwin(numtaps=111, cutoff=coeffs, pass_zero=btype, fs=200) # order = odd number (31 - 201)\n",
    "#     a = 1\n",
    "#     filt = signal.filtfilt(b, a, sig, axis=0)\n",
    "#     return filt\n",
    "\n",
    "\n",
    "\n",
    "def extract_data(files, e_s = None, baseline = True, bandpass = True):\n",
    "    start = time.time()\n",
    "    \n",
    "    dfs = []\n",
    "    enum_files = list(enumerate(files))\n",
    "    for i, f in tqdm(enum_files):\n",
    "        df = pd.read_csv(f) #read each file\n",
    "        index_fb = df[df['FeedBackEvent'] == 1].index.values\n",
    "        df_array = np.array(df) \n",
    "        \n",
    "        #uncomment below for butterworth filter\n",
    "        if bandpass == True:\n",
    "            eeg = df_array[:, channels_indices] #only eeg values to apply butterworth filter\n",
    "            for i, channel in enumerate(channels):\n",
    "                raw_eeg = df[channel].values\n",
    "                eeg_filtered = butter_filter(order, low_pass, high_pass, freq, raw_eeg) #butterworth filter applied\n",
    "                eeg[:,i] = eeg_filtered\n",
    "            df = np.array(df)\n",
    "            df[:, channels_indices] = eeg #replacing old eeg values with new ones\n",
    "        \n",
    "        df = df[:, channels_indices]\n",
    "        \n",
    "#         for j, indx in enumerate(index_fb): #epoching 100 indexes (0.5 seconds) after each stimulus\n",
    "#             epoch_array = df[indx-pre_fb:indx+epoch, :]\n",
    "#             epoch_array = epoch_array.reshape((1, epoch_array.shape[0], epoch_array.shape[1]))\n",
    "\n",
    "        #uncomment below for baseline correction\n",
    "        if baseline == True:\n",
    "            #baseline correction of 100ms (20 indexes), 400ms to 300ms before fb\n",
    "            baseline_array = df[indx+b_s:indx+b_e, :] \n",
    "            baseline_array = baseline_array.reshape((1,20,int(baseline_array.shape[1])))\n",
    "            baseline_mean = np.mean(baseline_array, axis = 1)\n",
    "            #noise subtracted from epoched data\n",
    "            epoch_array[:,:,:] = epoch_array[:,:,:] - baseline_mean\n",
    "        \n",
    "        df = pd.DataFrame(df, columns=channels)\n",
    "        dfs.append(df)\n",
    "    \n",
    "    res = pd.concat(dfs).to_numpy()\n",
    "    now = time.time()\n",
    "    print('Elapsed Time: ' + str(int(now-start)) + ' seconds')\n",
    "    return res"
   ]
  },
  {
   "cell_type": "code",
   "execution_count": 14,
   "metadata": {},
   "outputs": [
    {
     "data": {
      "application/vnd.jupyter.widget-view+json": {
       "model_id": "2a7e746807ff4538b7dab3e3b0bf8516",
       "version_major": 2,
       "version_minor": 0
      },
      "text/plain": [
       "  0%|          | 0/80 [00:00<?, ?it/s]"
      ]
     },
     "metadata": {},
     "output_type": "display_data"
    },
    {
     "ename": "NameError",
     "evalue": "name 'indx' is not defined",
     "output_type": "error",
     "traceback": [
      "\u001b[1;31m---------------------------------------------------------------------------\u001b[0m",
      "\u001b[1;31mNameError\u001b[0m                                 Traceback (most recent call last)",
      "\u001b[1;32m<ipython-input-14-4d12c9cf30d3>\u001b[0m in \u001b[0;36m<module>\u001b[1;34m\u001b[0m\n\u001b[0;32m      1\u001b[0m \u001b[0mtrain_files\u001b[0m \u001b[1;33m=\u001b[0m \u001b[0mglob\u001b[0m\u001b[1;33m.\u001b[0m\u001b[0mglob\u001b[0m\u001b[1;33m(\u001b[0m\u001b[1;34m'data/Train/Data*.csv'\u001b[0m\u001b[1;33m)\u001b[0m\u001b[1;33m\u001b[0m\u001b[1;33m\u001b[0m\u001b[0m\n\u001b[1;32m----> 2\u001b[1;33m \u001b[0mtrain\u001b[0m \u001b[1;33m=\u001b[0m \u001b[0mextract_data\u001b[0m\u001b[1;33m(\u001b[0m\u001b[0mtrain_files\u001b[0m\u001b[1;33m)\u001b[0m \u001b[1;31m# 80 iterations\u001b[0m\u001b[1;33m\u001b[0m\u001b[1;33m\u001b[0m\u001b[0m\n\u001b[0m\u001b[0;32m      3\u001b[0m \u001b[0mprint\u001b[0m\u001b[1;33m(\u001b[0m\u001b[0mtrain\u001b[0m\u001b[1;33m.\u001b[0m\u001b[0mshape\u001b[0m\u001b[1;33m)\u001b[0m\u001b[1;33m\u001b[0m\u001b[1;33m\u001b[0m\u001b[0m\n\u001b[0;32m      4\u001b[0m \u001b[0mnp\u001b[0m\u001b[1;33m.\u001b[0m\u001b[0msave\u001b[0m\u001b[1;33m(\u001b[0m\u001b[1;34m'tr1_model.npy'\u001b[0m\u001b[1;33m,\u001b[0m\u001b[0mtrain\u001b[0m\u001b[1;33m[\u001b[0m\u001b[1;36m1\u001b[0m\u001b[1;33m:\u001b[0m\u001b[1;33m,\u001b[0m\u001b[1;33m:\u001b[0m\u001b[1;33m]\u001b[0m\u001b[1;33m)\u001b[0m\u001b[1;33m\u001b[0m\u001b[1;33m\u001b[0m\u001b[0m\n\u001b[0;32m      5\u001b[0m \u001b[1;33m\u001b[0m\u001b[0m\n",
      "\u001b[1;32m<ipython-input-13-fdf89bc819ef>\u001b[0m in \u001b[0;36mextract_data\u001b[1;34m(files, e_s, baseline, bandpass)\u001b[0m\n\u001b[0;32m     45\u001b[0m         \u001b[1;32mif\u001b[0m \u001b[0mbaseline\u001b[0m \u001b[1;33m==\u001b[0m \u001b[1;32mTrue\u001b[0m\u001b[1;33m:\u001b[0m\u001b[1;33m\u001b[0m\u001b[1;33m\u001b[0m\u001b[0m\n\u001b[0;32m     46\u001b[0m             \u001b[1;31m#baseline correction of 100ms (20 indexes), 400ms to 300ms before fb\u001b[0m\u001b[1;33m\u001b[0m\u001b[1;33m\u001b[0m\u001b[1;33m\u001b[0m\u001b[0m\n\u001b[1;32m---> 47\u001b[1;33m             \u001b[0mbaseline_array\u001b[0m \u001b[1;33m=\u001b[0m \u001b[0mdf\u001b[0m\u001b[1;33m[\u001b[0m\u001b[0mindx\u001b[0m\u001b[1;33m+\u001b[0m\u001b[0mb_s\u001b[0m\u001b[1;33m:\u001b[0m\u001b[0mindx\u001b[0m\u001b[1;33m+\u001b[0m\u001b[0mb_e\u001b[0m\u001b[1;33m,\u001b[0m \u001b[1;33m:\u001b[0m\u001b[1;33m]\u001b[0m\u001b[1;33m\u001b[0m\u001b[1;33m\u001b[0m\u001b[0m\n\u001b[0m\u001b[0;32m     48\u001b[0m             \u001b[0mbaseline_array\u001b[0m \u001b[1;33m=\u001b[0m \u001b[0mbaseline_array\u001b[0m\u001b[1;33m.\u001b[0m\u001b[0mreshape\u001b[0m\u001b[1;33m(\u001b[0m\u001b[1;33m(\u001b[0m\u001b[1;36m1\u001b[0m\u001b[1;33m,\u001b[0m\u001b[1;36m20\u001b[0m\u001b[1;33m,\u001b[0m\u001b[0mint\u001b[0m\u001b[1;33m(\u001b[0m\u001b[0mbaseline_array\u001b[0m\u001b[1;33m.\u001b[0m\u001b[0mshape\u001b[0m\u001b[1;33m[\u001b[0m\u001b[1;36m1\u001b[0m\u001b[1;33m]\u001b[0m\u001b[1;33m)\u001b[0m\u001b[1;33m)\u001b[0m\u001b[1;33m)\u001b[0m\u001b[1;33m\u001b[0m\u001b[1;33m\u001b[0m\u001b[0m\n\u001b[0;32m     49\u001b[0m             \u001b[0mbaseline_mean\u001b[0m \u001b[1;33m=\u001b[0m \u001b[0mnp\u001b[0m\u001b[1;33m.\u001b[0m\u001b[0mmean\u001b[0m\u001b[1;33m(\u001b[0m\u001b[0mbaseline_array\u001b[0m\u001b[1;33m,\u001b[0m \u001b[0maxis\u001b[0m \u001b[1;33m=\u001b[0m \u001b[1;36m1\u001b[0m\u001b[1;33m)\u001b[0m\u001b[1;33m\u001b[0m\u001b[1;33m\u001b[0m\u001b[0m\n",
      "\u001b[1;31mNameError\u001b[0m: name 'indx' is not defined"
     ]
    }
   ],
   "source": [
    "train_files = glob.glob('data/Train/Data*.csv')\n",
    "train = extract_data(train_files) # 80 iterations\n",
    "print(train.shape)\n",
    "np.save('tr1_model.npy',train[1:,:])\n",
    "\n",
    "train = np.load('tr1_model.npy')"
   ]
  },
  {
   "cell_type": "code",
   "execution_count": null,
   "metadata": {},
   "outputs": [],
   "source": []
  }
 ],
 "metadata": {
  "kernelspec": {
   "display_name": "Python 3",
   "language": "python",
   "name": "python3"
  },
  "language_info": {
   "codemirror_mode": {
    "name": "ipython",
    "version": 3
   },
   "file_extension": ".py",
   "mimetype": "text/x-python",
   "name": "python",
   "nbconvert_exporter": "python",
   "pygments_lexer": "ipython3",
   "version": "3.7.6"
  }
 },
 "nbformat": 4,
 "nbformat_minor": 4
}
