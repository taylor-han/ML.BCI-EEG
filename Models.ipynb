{
 "cells": [
  {
   "cell_type": "code",
   "execution_count": 1,
   "metadata": {},
   "outputs": [],
   "source": [
    "import numpy as np\n",
    "import pandas as pd\n",
    "import glob\n",
    "import time\n",
    "from scipy import signal\n",
    "from tqdm.notebook import tqdm\n",
    "\n",
    "from sklearn.svm import SVC\n",
    "from sklearn.model_selection import GridSearchCV\n",
    "from sklearn.model_selection import KFold\n",
    "from sklearn.model_selection import train_test_split\n",
    "from sklearn.metrics import roc_auc_score\n",
    "from sklearn.preprocessing import StandardScaler\n",
    "from sklearn.metrics import roc_curve"
   ]
  },
  {
   "cell_type": "code",
   "execution_count": 5,
   "metadata": {},
   "outputs": [],
   "source": [
    "channels = ['Fz', 'FCz', 'Cz', 'CPz', 'Pz', 'POz']\n",
    "\n",
    "train_filtered = np.load('data/X_train_bwbs.npy')\n",
    "\n",
    "f = 'data/TrainLabels.csv'\n",
    "train_labels = pd.read_csv(f)\n",
    "train_labels = train_labels.Prediction.values"
   ]
  },
  {
   "cell_type": "code",
   "execution_count": 6,
   "metadata": {},
   "outputs": [],
   "source": [
    "# import warnings\n",
    "# warnings.filterwarnings('ignore')"
   ]
  },
  {
   "cell_type": "code",
   "execution_count": null,
   "metadata": {},
   "outputs": [],
   "source": [
    "#Using SVM to find the optimal C in the dataset with baseline\n",
    "C_list = [0.001,0.01,0.1,10]\n",
    "\n",
    "opt_C = None\n",
    "scaler = StandardScaler()\n",
    "best_Cs = []\n",
    "\n",
    "start = time.time()\n",
    "for i in range(len(train_filtered[0])):\n",
    "    x_train, x_test, y_train, y_test = train_test_split(train_filtered[:,i,:], train_labels, test_size=0.2)\n",
    "    \n",
    "    auc=0\n",
    "    for c in C_list:\n",
    "        estimator = SVC(kernel = 'linear',max_iter=10000,probability=True)\n",
    "        parameter = {'kernel':('linear',), 'C':[c]}\n",
    "        grid_search = GridSearchCV(estimator, parameter, cv=5)\n",
    "        grid_search.fit(scaler.fit_transform(x_train), y_train)\n",
    "        pred_y = grid_search.predict(scaler.transform(x_test))\n",
    "        auc_score = roc_auc_score(y_test, pred_y)\n",
    "#         print('AUC:'+\"{0:.3f}\".format(auc_score))\n",
    "        if auc_score > auc:\n",
    "            auc = auc_score\n",
    "            opt_C = c\n",
    "    best_Cs.append(opt_C)\n",
    "\n",
    "print('Time taken: {}'.format(time.time() - start))\n",
    "for i in range(len(channels)):\n",
    "    print('Best parameter C* for {} = {}'.format(channels[i], best_Cs[i]))"
   ]
  },
  {
   "cell_type": "code",
   "execution_count": null,
   "metadata": {},
   "outputs": [],
   "source": []
  }
 ],
 "metadata": {
  "kernelspec": {
   "display_name": "Python 3",
   "language": "python",
   "name": "python3"
  },
  "language_info": {
   "codemirror_mode": {
    "name": "ipython",
    "version": 3
   },
   "file_extension": ".py",
   "mimetype": "text/x-python",
   "name": "python",
   "nbconvert_exporter": "python",
   "pygments_lexer": "ipython3",
   "version": "3.7.6"
  }
 },
 "nbformat": 4,
 "nbformat_minor": 4
}
